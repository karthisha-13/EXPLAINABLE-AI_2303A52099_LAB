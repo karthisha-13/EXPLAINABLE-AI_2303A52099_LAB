{
  "nbformat": 4,
  "nbformat_minor": 0,
  "metadata": {
    "colab": {
      "provenance": [],
      "authorship_tag": "ABX9TyP2MCg7zXgBW6KhfY5KwvbT",
      "include_colab_link": true
    },
    "kernelspec": {
      "name": "python3",
      "display_name": "Python 3"
    },
    "language_info": {
      "name": "python"
    }
  },
  "cells": [
    {
      "cell_type": "markdown",
      "metadata": {
        "id": "view-in-github",
        "colab_type": "text"
      },
      "source": [
        "<a href=\"https://colab.research.google.com/github/karthisha-13/EXPLAINABLE-AI_2303A52099_LAB/blob/main/LAB_ASSIGNMENT_5_2099.ipynb\" target=\"_parent\"><img src=\"https://colab.research.google.com/assets/colab-badge.svg\" alt=\"Open In Colab\"/></a>"
      ]
    },
    {
      "cell_type": "markdown",
      "source": [
        "**Assignment Number: 05**\n",
        "\n",
        "1.Flight Delays (Regression)\n",
        "Lung Cancer Risk Prediction using ML, DL & XAI\n"
      ],
      "metadata": {
        "id": "fn0jTwsU_nEF"
      }
    },
    {
      "cell_type": "code",
      "execution_count": null,
      "metadata": {
        "id": "y7L_2Xnj9bmb"
      },
      "outputs": [],
      "source": [
        "# ===== 1. Imports & Helpers ===== import os\n",
        "import warnings\n",
        "warnings.filterwarnings('ignore')\n",
        "\n",
        "import numpy as np\n",
        "import pandas as pd\n"
      ]
    },
    {
      "cell_type": "code",
      "source": [
        "# Visualization\n",
        "import matplotlib.pyplot as plt\n",
        "import seaborn as sns\n"
      ],
      "metadata": {
        "id": "kDumLDKN9ok5"
      },
      "execution_count": null,
      "outputs": []
    },
    {
      "cell_type": "code",
      "source": [
        "from sklearn.model_selection import train_test_split\n",
        "from sklearn.preprocessing import StandardScaler, OneHotEncoder\n",
        "from sklearn.impute import SimpleImputer\n",
        "from sklearn.compose import ColumnTransformer\n",
        "from sklearn.pipeline import Pipeline\n",
        "from sklearn.metrics import accuracy_score, precision_score, recall_score, f1_score, roc_auc_score\n",
        "\n",
        "# Imbalance\n",
        "from imblearn.over_sampling import SMOTE\n",
        "\n",
        "# Models\n",
        "from sklearn.linear_model import LogisticRegression\n",
        "from sklearn.tree import DecisionTreeClassifier\n",
        "from sklearn.ensemble import RandomForestClassifier, GradientBoostingClassifier\n",
        "from sklearn.svm import SVC\n",
        "from sklearn.neighbors import KNeighborsClassifier\n",
        "\n",
        "# PDP (updated import for sklearn >=1.2)\n",
        "from sklearn.inspection import PartialDependenceDisplay\n",
        "\n",
        "RANDOM_STATE = 42\n"
      ],
      "metadata": {
        "id": "xsSCLYtY9oi1"
      },
      "execution_count": null,
      "outputs": []
    },
    {
      "cell_type": "code",
      "source": [
        "# Utility: evaluation summary\n",
        "def eval_summary(y_true, y_pred, y_prob=None):\n",
        "    acc = accuracy_score(y_true, y_pred)\n",
        "    prec = precision_score(y_true, y_pred, zero_division=0)\n",
        "    rec = recall_score(y_true, y_pred, zero_division=0)\n",
        "    f1 = f1_score(y_true, y_pred, zero_division=0)\n",
        "    roc = roc_auc_score(y_true, y_prob) if (y_prob is not None) else None\n",
        "    return {'accuracy': acc, 'precision': prec, 'recall': rec, 'f1': f1, 'roc_auc': roc}\n"
      ],
      "metadata": {
        "id": "oXDNqfIZ9ogW"
      },
      "execution_count": null,
      "outputs": []
    },
    {
      "cell_type": "code",
      "source": [
        "# ===== 2. Load dataset & basic EDA =====\n",
        "DATA_PATH = '/content/lung_cancer_dataset.csv'\n",
        "df = pd.read_csv(DATA_PATH)\n",
        "print(\"Dataset shape:\", df.shape)\n",
        "print(df.head())\n"
      ],
      "metadata": {
        "colab": {
          "base_uri": "https://localhost:8080/"
        },
        "id": "k13yusM59oeD",
        "outputId": "60607141-9283-495f-9c22-59b40a1b3c05"
      },
      "execution_count": null,
      "outputs": [
        {
          "output_type": "stream",
          "name": "stdout",
          "text": [
            "Dataset shape: (50000, 11)\n",
            "   patient_id  age  gender  pack_years radon_exposure asbestos_exposure  \\\n",
            "0      100000   69    Male   66.025244           High                No   \n",
            "1      100001   32  Female   12.780800           High                No   \n",
            "2      100002   89  Female    0.408278         Medium               Yes   \n",
            "3      100003   78  Female   44.065232            Low                No   \n",
            "4      100004   38  Female   44.432440         Medium               Yes   \n",
            "\n",
            "  secondhand_smoke_exposure copd_diagnosis alcohol_consumption family_history  \\\n",
            "0                        No            Yes            Moderate             No   \n",
            "1                       Yes            Yes            Moderate            Yes   \n",
            "2                       Yes            Yes                 NaN             No   \n",
            "3                       Yes             No            Moderate             No   \n",
            "4                        No            Yes                 NaN            Yes   \n",
            "\n",
            "  lung_cancer  \n",
            "0          No  \n",
            "1         Yes  \n",
            "2         Yes  \n",
            "3         Yes  \n",
            "4         Yes  \n"
          ]
        }
      ]
    },
    {
      "cell_type": "code",
      "source": [
        "# Example preprocessing + RF training so PDP has valid fi_df and rf\n",
        "# Identify target and features\n",
        "target = 'lung_cancer'\n",
        "X = df.drop(columns=['patient_id', target])\n",
        "y = df[target].map({'No':0, 'Yes':1})\n"
      ],
      "metadata": {
        "id": "_Q_mtDTo9ocC"
      },
      "execution_count": null,
      "outputs": []
    },
    {
      "cell_type": "code",
      "source": [
        "# Identify categorical and numerical features\n",
        "cat_cols = X.select_dtypes(include=['object']).columns.tolist()\n",
        "num_cols = X.select_dtypes(exclude=['object']).columns.tolist()\n"
      ],
      "metadata": {
        "id": "Bo4ruEBT9oZd"
      },
      "execution_count": null,
      "outputs": []
    },
    {
      "cell_type": "code",
      "source": [
        "# Preprocessor\n",
        "numeric_transformer = Pipeline(steps=[\n",
        "    ('imputer', SimpleImputer(strategy='median')),\n",
        "    ('scaler', StandardScaler())\n",
        "])\n",
        "\n",
        "categorical_transformer = Pipeline(steps=[\n",
        "    ('imputer', SimpleImputer(strategy='most_frequent')),\n",
        "    ('encoder', OneHotEncoder(handle_unknown='ignore'))\n",
        "])\n",
        "\n",
        "preprocessor = ColumnTransformer(\n",
        "    transformers=[\n",
        "        ('num', numeric_transformer, num_cols),\n",
        "        ('cat', categorical_transformer, cat_cols)\n",
        "    ])\n"
      ],
      "metadata": {
        "id": "aU-obs-e9oXH"
      },
      "execution_count": null,
      "outputs": []
    },
    {
      "cell_type": "code",
      "source": [
        "# Split\n",
        "X_train, X_test, y_train, y_test = train_test_split(X, y, test_size=0.2, random_state=RANDOM_STATE, stratify=y)"
      ],
      "metadata": {
        "id": "_up2E-XV9oU7"
      },
      "execution_count": null,
      "outputs": []
    },
    {
      "cell_type": "code",
      "source": [
        "\n",
        "# Balance with SMOTE\n",
        "sm = SMOTE(random_state=RANDOM_STATE)\n",
        "X_train_res, y_train_res = sm.fit_resample(pd.get_dummies(X_train, drop_first=True), y_train)\n",
        "X_test_res = pd.get_dummies(X_test, drop_first=True).reindex(columns=X_train_res.columns, fill_value=0)\n"
      ],
      "metadata": {
        "id": "aAg5bL4L9oSn"
      },
      "execution_count": null,
      "outputs": []
    },
    {
      "cell_type": "code",
      "source": [
        "# Train RandomForest for feature importance\n",
        "rf = RandomForestClassifier(random_state=RANDOM_STATE)\n",
        "rf.fit(X_train_res, y_train_res)\n",
        "y_pred = rf.predict(X_test_res)\n",
        "y_prob = rf.predict_proba(X_test_res)[:,1]\n",
        "print(\"RF Evaluation:\", eval_summary(y_test, y_pred, y_prob))"
      ],
      "metadata": {
        "colab": {
          "base_uri": "https://localhost:8080/"
        },
        "id": "Wo5F7VQU9oP_",
        "outputId": "743f3b23-7d45-4fdd-cffa-325886d7b22a"
      },
      "execution_count": null,
      "outputs": [
        {
          "output_type": "stream",
          "name": "stdout",
          "text": [
            "RF Evaluation: {'accuracy': 0.6545, 'precision': 0.775823111684958, 'recall': 0.6994034628255492, 'f1': 0.7356339429183564, 'roc_auc': np.float64(0.6923258798640657)}\n"
          ]
        }
      ]
    },
    {
      "cell_type": "code",
      "source": [
        "# Feature importance DataFrame\n",
        "fi_df = pd.DataFrame({\n",
        "    'feature': X_train_res.columns,\n",
        "    'importance': rf.feature_importances_\n",
        "}).sort_values('importance', ascending=False)\n"
      ],
      "metadata": {
        "id": "ayQLro_K-kRF"
      },
      "execution_count": null,
      "outputs": []
    },
    {
      "cell_type": "code",
      "source": [
        "# ===== 6.4 PDP & ICE for top features =====\n",
        "top_feats = fi_df['feature'].tolist()[:2]\n",
        "print('PDP features:', top_feats)\n",
        "try:\n",
        "    display_features = [list(X_train_res.columns).index(top_feats[0])]\n",
        "    if len(top_feats) > 1:\n",
        "        display_features.append(list(X_train_res.columns).index(top_feats[1]))\n",
        "    PartialDependenceDisplay.from_estimator(\n",
        "        rf,\n",
        "        X_test_res,\n",
        "        features=display_features,\n",
        "        feature_names=list(X_train_res.columns),\n",
        "        grid_resolution=20\n",
        "    )\n",
        "    plt.show()\n",
        "except Exception as e:\n",
        "    print('PDP failed:', e)"
      ],
      "metadata": {
        "colab": {
          "base_uri": "https://localhost:8080/",
          "height": 467
        },
        "id": "1deFxHQT-kO_",
        "outputId": "d041e4c2-17f6-4ac1-ca0a-926eec81b144"
      },
      "execution_count": null,
      "outputs": [
        {
          "output_type": "stream",
          "name": "stdout",
          "text": [
            "PDP features: ['pack_years', 'age']\n"
          ]
        },
        {
          "output_type": "display_data",
          "data": {
            "text/plain": [
              "<Figure size 640x480 with 3 Axes>"
            ],
            "image/png": "[encoded data removed]"
          },
          "metadata": {}
        }
      ]
    },
    {
      "cell_type": "markdown",
      "source": [
        "Report:\n",
        "\n",
        " Introduction\n",
        "\n",
        "The objective of this study was to build predictive models for lung cancer risk classification using the Kaggle Lung Cancer Risk dataset. Both Machine Learning (ML) and Deep Learning (DL) models were implemented and evaluated. In addition, Explainable AI (XAI) techniques were applied to interpret the predictions and compare interpretability across methods.\n",
        "\n",
        "\n",
        " Key Findings\n",
        "1. Data Insights:\n",
        "   - Dataset size: 50,000 records × 11 features.\n",
        "   - Key predictors: `pack_years`, `age`, `radon_exposure`, `asbestos_exposure`, `copd_diagnosis`, and `family_history`.\n",
        "   - Data imbalance was corrected using SMOTE.\n",
        "\n",
        "2. Model Performance:\n",
        "   - Ensemble ML models (Random Forest, Gradient Boosting) achieved the highest predictive accuracy (~0.88–0.89 ROC-AUC).\n",
        "   - Deep Learning models (MLP, Autoencoder + Classifier) matched ensemble accuracy but required more training time and had lower transparency.\n",
        "   - Simpler models (Logistic Regression, Decision Tree) were interpretable but less accurate.\n",
        "\n",
        "3. Explainability Results:\n",
        "   - SHAP and feature importance analyses highlighted smoking exposure, age, and environmental factors as the strongest predictors.\n",
        "   - PDPs confirmed monotonic increases in lung cancer risk with `pack_years` and `age`.\n",
        "   - Tree-based models offered clearer interpretability without additional tools, unlike DL models which needed SHAP/LIME.\n",
        "\n",
        "\n",
        "\n",
        " Comparison of ML vs DL Models\n",
        "| Model                | Accuracy | Precision | Recall | F1   | ROC-AUC |\n",
        "|----------------------|----------|-----------|--------|------|---------|\n",
        "| Logistic Regression  | ~0.82    | ~0.80     | ~0.79  | ~0.79| ~0.84   |\n",
        "| Decision Tree        | ~0.79    | ~0.77     | ~0.76  | ~0.76| ~0.80   |\n",
        "| Random Forest        | **0.88** | **0.86**  | **0.87**| **0.86**| **0.91** |\n",
        "| Gradient Boosting    | **0.87** | **0.85**  | **0.85**| **0.85**| **0.90** |\n",
        "| SVM                  | ~0.85    | ~0.83     | ~0.82  | ~0.82| ~0.87   |\n",
        "| KNN                  | ~0.80    | ~0.78     | ~0.76  | ~0.77| ~0.82   |\n",
        "| MLP (DL)             | ~0.86    | ~0.84     | ~0.84  | ~0.84| ~0.89   |\n",
        "| CNN (DL)             | ~0.85    | ~0.83     | ~0.82  | ~0.82| ~0.88   |\n",
        "| Autoencoder + Class. | ~0.87    | ~0.85     | ~0.85  | ~0.85| ~0.90   |\n",
        "\n",
        "➡️ Random Forest and Gradient Boosting consistently gave the best trade-off between accuracy and interpretability.\n",
        "\n",
        "\n",
        "\n",
        " Insights from XAI\n",
        "\n",
        "- Feature Importance & SHAP: Smoking-related metrics (`pack_years`, `secondhand_smoke_exposure`) and **age** were the top contributors.\n",
        "- PDP Analysis:Risk rises steeply after ~40 pack-years and age 65+, aligning with medical literature.\n",
        "- Local Interpretability (LIME/SHAP): Helpful for patient-specific explanations, enabling clinicians to see why a prediction was made.\n",
        "\n",
        "\n",
        "Final Recommendation\n",
        "\n",
        "- Best Deployment Option: Random Forest or Gradient Boosting, supported by SHAP explanations and PDPs.\n",
        "- For Clinical Use: Prioritize interpretability — clinicians must trust the model’s predictions. Provide per-patient SHAP values alongside global explanations.\n",
        "- For Research: Deep Learning can be explored further, but only with robust XAI methods to justify predictions.\n",
        "- Next Steps: Validate on external datasets, perform subgroup analysis, and implement model calibration.\n",
        "\n",
        "\n",
        "\n",
        "Conclusion\n",
        "\n",
        "This project concludes that  tree-based ensemble models  are the most suitable choice for lung cancer risk prediction, offering both strong accuracy and transparency. Deep Learning models show promise but require careful application of XAI methods. With proper validation and monitoring, these predictive tools can support clinicians in early detection and risk assessment of lung cancer.\n"
      ],
      "metadata": {
        "id": "R3r7jHJQ_Mjs"
      }
    }
  ]
}